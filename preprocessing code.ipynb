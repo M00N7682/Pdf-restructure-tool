{
 "cells": [
  {
   "cell_type": "markdown",
   "metadata": {},
   "source": [
    "### pdf 파일 전처리 및 재편집 코드"
   ]
  },
  {
   "cell_type": "code",
   "execution_count": null,
   "metadata": {},
   "outputs": [],
   "source": [
    "from langchain.document_loaders import PyPDFLoader\n",
    "import re\n",
    "import os"
   ]
  },
  {
   "cell_type": "code",
   "execution_count": null,
   "metadata": {},
   "outputs": [
    {
     "name": "stdout",
     "output_type": "stream",
     "text": [
      "PDF 로드 완료!\n",
      "총 5개의 문제가 감지되었습니다.\n",
      "재편집된 문제집이 'C:\\Users\\user\\Desktop\\유재혁혁.txt'에 저장되었습니다.\n"
     ]
    }
   ],
   "source": [
    "from langchain.document_loaders import PyPDFLoader\n",
    "import re\n",
    "import os\n",
    "\n",
    "# --- 경로 설정 ---\n",
    "PDF_FILE_PATH = r\"C:\\Users\\user\\Documents\\카카오톡 받은 파일\\얼쌩리.pdf\"  # 입력 PDF 파일 경로\n",
    "OUTPUT_FILE_PATH = r\"C:\\Users\\user\\Desktop\\유재혁.txt\"  # 출력 파일 경로\n",
    "\n",
    "# --- PDF 로드 함수 ---\n",
    "def load_pdf_text(pdf_path):\n",
    "    loader = PyPDFLoader(pdf_path)\n",
    "    documents = loader.load()\n",
    "    # 모든 페이지의 텍스트를 하나로 합침\n",
    "    text = \"\\n\".join([doc.page_content for doc in documents])\n",
    "    return text\n",
    "\n",
    "# --- 문제와 해설 구분 함수 ---\n",
    "def split_questions_and_answers(text):\n",
    "    # 정규표현식을 사용하여 문제와 해설 추출 (예: 숫자. 형식으로 문제 시작)\n",
    "    question_pattern = re.compile(r'(\\d+\\.\\s.*?)(?=\\d+\\.|\\Z)', re.DOTALL)\n",
    "\n",
    "    # 모든 문제 청크 추출\n",
    "    matches = question_pattern.findall(text)\n",
    "\n",
    "    questions = {}\n",
    "    answers = {}\n",
    "\n",
    "    for match in matches:\n",
    "        # 문제 번호 추출 (예: 1.)\n",
    "        num_match = re.match(r'(\\d+)\\.', match.strip())\n",
    "        if num_match:\n",
    "            question_num = num_match.group(1)\n",
    "            # 문제와 해설 구분 (예: \"해설:\" 키워드로 구분)\n",
    "            if \"해설:\" in match:\n",
    "                parts = match.split(\"해설:\", 1)\n",
    "                questions[question_num] = parts[0].strip()\n",
    "                answers[question_num] = \"해설: \" + parts[1].strip()\n",
    "            else:\n",
    "                questions[question_num] = match.strip()\n",
    "\n",
    "    return questions, answers\n",
    "\n",
    "# --- 문제-해설 재편집 및 저장 ---\n",
    "def rearrange_and_save(questions, answers, output_path):\n",
    "    with open(output_path, \"w\", encoding=\"utf-8\") as file:\n",
    "        for num in sorted(questions.keys(), key=int):\n",
    "            file.write(f\"문제 {num}:\\n{questions[num]}\\n\\n\")\n",
    "            if num in answers:\n",
    "                file.write(f\"해설 {num}:\\n{answers[num]}\\n\\n\")\n",
    "            else:\n",
    "                file.write(f\"해설 {num}: 해당 문제의 해설이 없습니다.\\n\\n\")\n",
    "    \n",
    "    print(f\"재편집된 문제집이 '{output_path}'에 저장되었습니다.\")\n",
    "\n",
    "# --- 메인 실행 ---\n",
    "if __name__ == \"__main__\":\n",
    "    # --- PDF 로드 ---\n",
    "    pdf_text = load_pdf_text(PDF_FILE_PATH)\n",
    "    print(\"PDF 로드 완료!\")\n",
    "\n",
    "    questions, answers = split_questions_and_answers(pdf_text)\n",
    "    print(f\"총 {len(questions)}개의 문제가 감지되었습니다.\")\n",
    "\n",
    "    rearrange_and_save(questions, answers, OUTPUT_FILE_PATH)\n"
   ]
  }
 ],
 "metadata": {
  "kernelspec": {
   "display_name": "Python 3",
   "language": "python",
   "name": "python3"
  },
  "language_info": {
   "codemirror_mode": {
    "name": "ipython",
    "version": 3
   },
   "file_extension": ".py",
   "mimetype": "text/x-python",
   "name": "python",
   "nbconvert_exporter": "python",
   "pygments_lexer": "ipython3",
   "version": "3.9.13"
  }
 },
 "nbformat": 4,
 "nbformat_minor": 2
}
